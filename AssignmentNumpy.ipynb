{
 "cells": [
  {
   "cell_type": "code",
   "execution_count": 1,
   "metadata": {},
   "outputs": [],
   "source": [
    "import numpy as np"
   ]
  },
  {
   "cell_type": "code",
   "execution_count": null,
   "metadata": {},
   "outputs": [],
   "source": [
    "#Question1. Create a 3x3 NumPy array with random integers between 1 and 100. Then, interchange its rows and columns."
   ]
  },
  {
   "cell_type": "code",
   "execution_count": 12,
   "metadata": {},
   "outputs": [
    {
     "name": "stdout",
     "output_type": "stream",
     "text": [
      "[[83 80 66]\n",
      " [14 14 10]\n",
      " [96 22 44]]\n",
      "[[83 14 96]\n",
      " [80 14 22]\n",
      " [66 10 44]]\n"
     ]
    }
   ],
   "source": [
    "'''Answer1.'''\n",
    "arr = np.random.randint(1, 100, [3,3])\n",
    "print(arr)\n",
    "'''Here we interchange row and column'''\n",
    "arrT = arr.T\n",
    "print(arrT)"
   ]
  },
  {
   "cell_type": "code",
   "execution_count": null,
   "metadata": {},
   "outputs": [],
   "source": [
    "#Question2.  Generate a 1D NumPy array with 10 elements. Reshape it into a 2x5 array, then into a 5x2 array."
   ]
  },
  {
   "cell_type": "code",
   "execution_count": 16,
   "metadata": {},
   "outputs": [
    {
     "name": "stdout",
     "output_type": "stream",
     "text": [
      "[0 1 2 3 4 5 6 7 8 9]\n",
      "[[0 1 2 3 4]\n",
      " [5 6 7 8 9]]\n",
      "[[0 1]\n",
      " [2 3]\n",
      " [4 5]\n",
      " [6 7]\n",
      " [8 9]]\n"
     ]
    }
   ],
   "source": [
    "'''Answer2. Here we use generator to generate the entities for the question'''\n",
    "iterator =  (i for i in range(10))\n",
    "iterarray = np.fromiter(iterator, int)\n",
    "print(iterarray)\n",
    "'''Now we are reshaping it'''\n",
    "res = iterarray.reshape(2,5)\n",
    "print(res)\n",
    "res2 = iterarray.reshape(5, 2)\n",
    "print(res2)"
   ]
  },
  {
   "cell_type": "code",
   "execution_count": 17,
   "metadata": {},
   "outputs": [],
   "source": [
    "#Question3. Create a 4x4 NumPy array with random float values. Add a border of zeros around it, resulting in a 6x6 array."
   ]
  },
  {
   "cell_type": "code",
   "execution_count": 31,
   "metadata": {},
   "outputs": [
    {
     "name": "stdout",
     "output_type": "stream",
     "text": [
      "[[-2.08221906  0.53875469  0.2851401   0.98884308]\n",
      " [ 1.75247593 -0.77332459  1.4348809   0.87905573]\n",
      " [-0.50458894 -1.41473345  0.88118412  1.11527307]\n",
      " [ 1.52676136  0.65289174  0.55118886  1.31567252]]\n",
      "[[ 0.          0.          0.          0.          0.          0.        ]\n",
      " [ 0.         -2.08221906  0.53875469  0.2851401   0.98884308  0.        ]\n",
      " [ 0.          1.75247593 -0.77332459  1.4348809   0.87905573  0.        ]\n",
      " [ 0.         -0.50458894 -1.41473345  0.88118412  1.11527307  0.        ]\n",
      " [ 0.          1.52676136  0.65289174  0.55118886  1.31567252  0.        ]\n",
      " [ 0.          0.          0.          0.          0.          0.        ]]\n"
     ]
    }
   ],
   "source": [
    "'''Answer3.'''\n",
    "arr = np.random.randn(4,4)\n",
    "print(arr)\n",
    "\n",
    "padded_array = np.pad(arr, pad_width=1, constant_values=0)\n",
    "print(padded_array)"
   ]
  },
  {
   "cell_type": "code",
   "execution_count": 32,
   "metadata": {},
   "outputs": [],
   "source": [
    "#Question4.Using NumPy, create an array of integers from 10 to 60 with a step of 5."
   ]
  },
  {
   "cell_type": "code",
   "execution_count": 33,
   "metadata": {},
   "outputs": [
    {
     "data": {
      "text/plain": [
       "array([10, 15, 20, 25, 30, 35, 40, 45, 50, 55])"
      ]
     },
     "execution_count": 33,
     "metadata": {},
     "output_type": "execute_result"
    }
   ],
   "source": [
    "'''Answer4.'''\n",
    "arr = np.arange(10, 60, 5)\n",
    "arr"
   ]
  },
  {
   "cell_type": "code",
   "execution_count": 34,
   "metadata": {},
   "outputs": [],
   "source": [
    "#Question5. Create a NumPy array of strings ['python', 'numpy', 'pandas']. Apply different case transformations (uppercase, lowercase, title case, etc.) to each element."
   ]
  },
  {
   "cell_type": "code",
   "execution_count": 46,
   "metadata": {},
   "outputs": [
    {
     "name": "stdout",
     "output_type": "stream",
     "text": [
      "['python' ' numpy' ' pandas']\n",
      "Uppercase: ['PYTHON' ' NUMPY' ' PANDAS']\n",
      "Lowercase: ['python' ' numpy' ' pandas']\n",
      "Title case: ['Python' ' Numpy' ' Pandas']\n"
     ]
    }
   ],
   "source": [
    "'''Answer5.'''\n",
    "string = \"python, numpy, pandas\"\n",
    "string.split(\",\")\n",
    "\n",
    "arr = np.array(string.split(\",\"))\n",
    "print(arr)\n",
    "\n",
    "# Uppercase\n",
    "uppercase_array = np.char.upper(arr)\n",
    "\n",
    "# Lowercase\n",
    "lowercase_array = np.char.lower(arr)\n",
    "\n",
    "# Title case\n",
    "titlecase_array = np.char.title(arr)\n",
    "\n",
    "print(\"Uppercase:\", uppercase_array)\n",
    "print(\"Lowercase:\", lowercase_array)\n",
    "print(\"Title case:\", titlecase_array)"
   ]
  },
  {
   "cell_type": "code",
   "execution_count": null,
   "metadata": {},
   "outputs": [],
   "source": []
  }
 ],
 "metadata": {
  "kernelspec": {
   "display_name": "Python 3",
   "language": "python",
   "name": "python3"
  },
  "language_info": {
   "codemirror_mode": {
    "name": "ipython",
    "version": 3
   },
   "file_extension": ".py",
   "mimetype": "text/x-python",
   "name": "python",
   "nbconvert_exporter": "python",
   "pygments_lexer": "ipython3",
   "version": "3.12.5"
  }
 },
 "nbformat": 4,
 "nbformat_minor": 2
}
