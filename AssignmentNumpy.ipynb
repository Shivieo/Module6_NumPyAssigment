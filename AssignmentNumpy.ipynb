{
 "cells": [
  {
   "cell_type": "code",
   "execution_count": 2,
   "metadata": {},
   "outputs": [],
   "source": [
    "import numpy as np"
   ]
  },
  {
   "cell_type": "code",
   "execution_count": 3,
   "metadata": {},
   "outputs": [],
   "source": [
    "#Question1. Create a 3x3 NumPy array with random integers between 1 and 100. Then, interchange its rows and columns."
   ]
  },
  {
   "cell_type": "code",
   "execution_count": 4,
   "metadata": {},
   "outputs": [
    {
     "name": "stdout",
     "output_type": "stream",
     "text": [
      "[[74 59 32]\n",
      " [37  9  6]\n",
      " [98 13 29]]\n",
      "[[74 37 98]\n",
      " [59  9 13]\n",
      " [32  6 29]]\n"
     ]
    }
   ],
   "source": [
    "'''Answer1.'''\n",
    "arr = np.random.randint(1, 100, [3,3])\n",
    "print(arr)\n",
    "'''Here we interchange row and column'''\n",
    "arrT = arr.T\n",
    "print(arrT)"
   ]
  },
  {
   "cell_type": "code",
   "execution_count": 5,
   "metadata": {},
   "outputs": [],
   "source": [
    "#Question2.  Generate a 1D NumPy array with 10 elements. Reshape it into a 2x5 array, then into a 5x2 array."
   ]
  },
  {
   "cell_type": "code",
   "execution_count": 6,
   "metadata": {},
   "outputs": [
    {
     "name": "stdout",
     "output_type": "stream",
     "text": [
      "[0 1 2 3 4 5 6 7 8 9]\n",
      "[[0 1 2 3 4]\n",
      " [5 6 7 8 9]]\n",
      "[[0 1]\n",
      " [2 3]\n",
      " [4 5]\n",
      " [6 7]\n",
      " [8 9]]\n"
     ]
    }
   ],
   "source": [
    "'''Answer2. Here we use generator to generate the entities for the question'''\n",
    "iterator =  (i for i in range(10))\n",
    "iterarray = np.fromiter(iterator, int)\n",
    "print(iterarray)\n",
    "'''Now we are reshaping it'''\n",
    "res = iterarray.reshape(2,5)\n",
    "print(res)\n",
    "res2 = iterarray.reshape(5, 2)\n",
    "print(res2)"
   ]
  },
  {
   "cell_type": "code",
   "execution_count": 7,
   "metadata": {},
   "outputs": [],
   "source": [
    "#Question3. Create a 4x4 NumPy array with random float values. Add a border of zeros around it, resulting in a 6x6 array."
   ]
  },
  {
   "cell_type": "code",
   "execution_count": 8,
   "metadata": {},
   "outputs": [
    {
     "name": "stdout",
     "output_type": "stream",
     "text": [
      "[[ 0.23661743  0.83752797  1.01819303  0.73165046]\n",
      " [ 0.14571784  0.2805809   0.7448981  -0.69984379]\n",
      " [-0.02292244  0.35124631  0.67638224 -1.36727955]\n",
      " [-1.12929514  0.17629555  1.05884227  0.03958071]]\n",
      "[[ 0.          0.          0.          0.          0.          0.        ]\n",
      " [ 0.          0.23661743  0.83752797  1.01819303  0.73165046  0.        ]\n",
      " [ 0.          0.14571784  0.2805809   0.7448981  -0.69984379  0.        ]\n",
      " [ 0.         -0.02292244  0.35124631  0.67638224 -1.36727955  0.        ]\n",
      " [ 0.         -1.12929514  0.17629555  1.05884227  0.03958071  0.        ]\n",
      " [ 0.          0.          0.          0.          0.          0.        ]]\n"
     ]
    }
   ],
   "source": [
    "'''Answer3.'''\n",
    "arr = np.random.randn(4,4)\n",
    "print(arr)\n",
    "\n",
    "padded_array = np.pad(arr, pad_width=1, constant_values=0)\n",
    "print(padded_array)"
   ]
  },
  {
   "cell_type": "code",
   "execution_count": 9,
   "metadata": {},
   "outputs": [],
   "source": [
    "#Question4.Using NumPy, create an array of integers from 10 to 60 with a step of 5."
   ]
  },
  {
   "cell_type": "code",
   "execution_count": 10,
   "metadata": {},
   "outputs": [
    {
     "data": {
      "text/plain": [
       "array([10, 15, 20, 25, 30, 35, 40, 45, 50, 55])"
      ]
     },
     "execution_count": 10,
     "metadata": {},
     "output_type": "execute_result"
    }
   ],
   "source": [
    "'''Answer4.'''\n",
    "arr = np.arange(10, 60, 5)\n",
    "arr"
   ]
  },
  {
   "cell_type": "code",
   "execution_count": 11,
   "metadata": {},
   "outputs": [],
   "source": [
    "#Question5. Create a NumPy array of strings ['python', 'numpy', 'pandas']. Apply different case transformations (uppercase, lowercase, title case, etc.) to each element."
   ]
  },
  {
   "cell_type": "code",
   "execution_count": 12,
   "metadata": {},
   "outputs": [
    {
     "name": "stdout",
     "output_type": "stream",
     "text": [
      "['python' ' numpy' ' pandas']\n",
      "Uppercase: ['PYTHON' ' NUMPY' ' PANDAS']\n",
      "Lowercase: ['python' ' numpy' ' pandas']\n",
      "Title case: ['Python' ' Numpy' ' Pandas']\n"
     ]
    }
   ],
   "source": [
    "'''Answer5.'''\n",
    "string = \"python, numpy, pandas\"\n",
    "string.split(\",\")\n",
    "\n",
    "arr = np.array(string.split(\",\"))\n",
    "print(arr)\n",
    "\n",
    "# Uppercase\n",
    "uppercase_array = np.char.upper(arr)\n",
    "\n",
    "# Lowercase\n",
    "lowercase_array = np.char.lower(arr)\n",
    "\n",
    "# Title case\n",
    "titlecase_array = np.char.title(arr)\n",
    "\n",
    "print(\"Uppercase:\", uppercase_array)\n",
    "print(\"Lowercase:\", lowercase_array)\n",
    "print(\"Title case:\", titlecase_array)"
   ]
  },
  {
   "cell_type": "code",
   "execution_count": 13,
   "metadata": {},
   "outputs": [],
   "source": [
    "#Question6. Generate a NumPy array of words. Insert a space between each character of every word in the array."
   ]
  },
  {
   "cell_type": "code",
   "execution_count": 17,
   "metadata": {},
   "outputs": [
    {
     "data": {
      "text/plain": [
       "array('M a r i o ,   D r a g o n b a l l ,   B e n - 1 0 ,   B u n n y ,   J h o n n y T e s t',\n",
       "      dtype='<U87')"
      ]
     },
     "execution_count": 17,
     "metadata": {},
     "output_type": "execute_result"
    }
   ],
   "source": [
    "'''Answer6.'''\n",
    "wrd_arr = np.array(\"Mario, Dragonball, Ben-10, Bunny, JhonnyTest\")\n",
    "spaced_words = np.char.join(\" \", wrd_arr)\n",
    "spaced_words"
   ]
  },
  {
   "cell_type": "code",
   "execution_count": 18,
   "metadata": {},
   "outputs": [],
   "source": [
    "#Question7. Create two 2D NumPy arrays and perform element-wise addition, subtraction, multiplication, and division."
   ]
  },
  {
   "cell_type": "code",
   "execution_count": 23,
   "metadata": {},
   "outputs": [
    {
     "name": "stdout",
     "output_type": "stream",
     "text": [
      "[[3 2 2]\n",
      " [1 4 2]\n",
      " [2 2 2]]\n",
      "[[4 1 4]\n",
      " [3 2 3]\n",
      " [1 2 2]]\n",
      "addition [[7 3 6]\n",
      " [4 6 5]\n",
      " [3 4 4]]\n",
      "Subtraction [[-1  1 -2]\n",
      " [-2  2 -1]\n",
      " [ 1  0  0]]\n",
      "Multiplication [[12  2  8]\n",
      " [ 3  8  6]\n",
      " [ 2  4  4]]\n",
      "Division [[0.75       2.         0.5       ]\n",
      " [0.33333333 2.         0.66666667]\n",
      " [2.         1.         1.        ]]\n"
     ]
    }
   ],
   "source": [
    "'''Answer7.'''\n",
    "arr1 = np.random.randint(1,5, [3,3])\n",
    "arr2 = np.random.randint(1,5, [3,3])\n",
    "\n",
    "print(arr1)\n",
    "print(arr2)\n",
    "\n",
    "print(\"addition\", np.add(arr1, arr2))\n",
    "print(\"Subtraction\", np.subtract(arr1, arr2))\n",
    "print(\"Multiplication\", np.multiply(arr1, arr2))\n",
    "print(\"Division\", np.divide(arr1, arr2))\n"
   ]
  },
  {
   "cell_type": "code",
   "execution_count": 24,
   "metadata": {},
   "outputs": [],
   "source": [
    "#Question8. Use NumPy to create a 5x5 identity matrix, then extract its diagonal elements."
   ]
  },
  {
   "cell_type": "code",
   "execution_count": 29,
   "metadata": {},
   "outputs": [
    {
     "name": "stdout",
     "output_type": "stream",
     "text": [
      "[[1. 0. 0. 0. 0.]\n",
      " [0. 1. 0. 0. 0.]\n",
      " [0. 0. 1. 0. 0.]\n",
      " [0. 0. 0. 1. 0.]\n",
      " [0. 0. 0. 0. 1.]]\n",
      "Diagonal elements are  [1. 1. 1. 1. 1.]\n"
     ]
    }
   ],
   "source": [
    "'''Answer8.'''\n",
    "im = np.eye(5,5)\n",
    "print(im)\n",
    "diag_im = np.diag(im)\n",
    "print(\"Diagonal elements are \", diag_im)"
   ]
  },
  {
   "cell_type": "code",
   "execution_count": 30,
   "metadata": {},
   "outputs": [],
   "source": [
    "#Question9. Generate a NumPy array of 100 random integers between 0 and 1000. Find and display all prime numbers in this array."
   ]
  },
  {
   "cell_type": "code",
   "execution_count": 40,
   "metadata": {},
   "outputs": [
    {
     "name": "stdout",
     "output_type": "stream",
     "text": [
      "[418 550 987  73 227 738 515 673 439 396  90  95 889 138 436 101 644 587\n",
      " 948 957 394 905 246 197 788 488 700 535 716 791 428 743 369 311 466 572\n",
      " 137 670 505 747 525 987 592 882 522 650 891 337 450 274 449 617 298  41\n",
      " 990 933 912 106  84 995 513  26 408 964 656 463 744 673 773 481 985  10\n",
      " 609 552 799 227 275 112 405 184 793 916 156 594 889 848 514 396 768 287\n",
      " 722   3 750 595 286 557 853 535 581 592]\n",
      "Prime Number [np.int32(73), np.int32(227), np.int32(673), np.int32(439), np.int32(101), np.int32(587), np.int32(197), np.int32(743), np.int32(311), np.int32(137), np.int32(337), np.int32(449), np.int32(617), np.int32(41), np.int32(463), np.int32(673), np.int32(773), np.int32(227), np.int32(3), np.int32(557), np.int32(853)]\n"
     ]
    }
   ],
   "source": [
    "'''Answer9.'''\n",
    "arr = np.random.randint(0, 1000, 100)\n",
    "print(arr)\n",
    "\n",
    "def is_prime(num):\n",
    "    count = 0\n",
    "    i = 1\n",
    "    while(i<=num):\n",
    "        if(num%i==0):\n",
    "            count+=1\n",
    "        i+=1\n",
    "    if(count == 2):\n",
    "        return True\n",
    "    \n",
    "prime_numbers = [i for i in arr if is_prime(i)]\n",
    "print(\"Prime Number\", prime_numbers)"
   ]
  },
  {
   "cell_type": "code",
   "execution_count": 41,
   "metadata": {},
   "outputs": [],
   "source": [
    "#Question.10. Create a NumPy array representing daily temperatures for a month. Calculate and display the weekly averages."
   ]
  },
  {
   "cell_type": "code",
   "execution_count": 52,
   "metadata": {},
   "outputs": [
    {
     "name": "stdout",
     "output_type": "stream",
     "text": [
      "[44 37 39 42 43 30 31 38 41 26 37 43 25 43 25 28 33 31 31 35 32 38 44 36\n",
      " 39 34 35 41]\n",
      "[38.         36.14285714 30.71428571 38.14285714]\n"
     ]
    }
   ],
   "source": [
    "'''Answer.10.'''\n",
    "'''Assuming 28 days in a month'''\n",
    "daily_temperatures = np.random.randint(25, 45, 28)\n",
    "print(daily_temperatures)\n",
    "'''assuming 4 weeks in a month'''\n",
    "weekly_averages = np.mean(daily_temperatures.reshape(4, 7), axis=1)\n",
    "print(weekly_averages)"
   ]
  },
  {
   "cell_type": "code",
   "execution_count": null,
   "metadata": {},
   "outputs": [],
   "source": []
  },
  {
   "cell_type": "code",
   "execution_count": null,
   "metadata": {},
   "outputs": [],
   "source": []
  }
 ],
 "metadata": {
  "kernelspec": {
   "display_name": "Python 3",
   "language": "python",
   "name": "python3"
  },
  "language_info": {
   "codemirror_mode": {
    "name": "ipython",
    "version": 3
   },
   "file_extension": ".py",
   "mimetype": "text/x-python",
   "name": "python",
   "nbconvert_exporter": "python",
   "pygments_lexer": "ipython3",
   "version": "3.12.5"
  }
 },
 "nbformat": 4,
 "nbformat_minor": 2
}
